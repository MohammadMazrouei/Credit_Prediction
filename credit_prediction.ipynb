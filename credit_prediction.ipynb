{
 "cells": [
  {
   "cell_type": "code",
   "execution_count": 12,
   "id": "92da347f-aa3b-44c3-83e4-8b49510d5d9f",
   "metadata": {},
   "outputs": [],
   "source": [
    "import pandas as pd\n",
    "import timeit\n",
    "from sklearn.model_selection import train_test_split, GridSearchCV\n",
    "from sklearn.pipeline import Pipeline\n",
    "from sklearn.compose import ColumnTransformer\n",
    "from sklearn.impute import SimpleImputer, KNNImputer\n",
    "from sklearn.preprocessing import MinMaxScaler, StandardScaler, OneHotEncoder\n",
    "from sklearn.metrics import mean_absolute_error, mean_squared_error, r2_score\n",
    "\n",
    "from sklearn.tree import DecisionTreeRegressor\n",
    "from sklearn.ensemble import RandomForestRegressor, GradientBoostingRegressor\n",
    "from xgboost import XGBRegressor"
   ]
  },
  {
   "cell_type": "code",
   "execution_count": 2,
   "id": "9175f40f-28d3-4c95-a713-c165e39408ad",
   "metadata": {},
   "outputs": [
    {
     "name": "stdout",
     "output_type": "stream",
     "text": [
      "(10132, 18)\n"
     ]
    },
    {
     "data": {
      "text/html": [
       "<div>\n",
       "<style scoped>\n",
       "    .dataframe tbody tr th:only-of-type {\n",
       "        vertical-align: middle;\n",
       "    }\n",
       "\n",
       "    .dataframe tbody tr th {\n",
       "        vertical-align: top;\n",
       "    }\n",
       "\n",
       "    .dataframe thead th {\n",
       "        text-align: right;\n",
       "    }\n",
       "</style>\n",
       "<table border=\"1\" class=\"dataframe\">\n",
       "  <thead>\n",
       "    <tr style=\"text-align: right;\">\n",
       "      <th></th>\n",
       "      <th>Customer_Age</th>\n",
       "      <th>Gender</th>\n",
       "      <th>Dependent_count</th>\n",
       "      <th>Education_Level</th>\n",
       "      <th>Marital_Status</th>\n",
       "      <th>Income_Category</th>\n",
       "      <th>Card_Category</th>\n",
       "      <th>Months_on_book</th>\n",
       "      <th>Total_Relationship_Count</th>\n",
       "      <th>Months_Inactive_12_mon</th>\n",
       "      <th>Contacts_Count_12_mon</th>\n",
       "      <th>Credit_Limit</th>\n",
       "      <th>Total_Revolving_Bal</th>\n",
       "      <th>Total_Amt_Chng_Q4_Q1</th>\n",
       "      <th>Total_Trans_Amt</th>\n",
       "      <th>Total_Trans_Ct</th>\n",
       "      <th>Total_Ct_Chng_Q4_Q1</th>\n",
       "      <th>Avg_Utilization_Ratio</th>\n",
       "    </tr>\n",
       "  </thead>\n",
       "  <tbody>\n",
       "    <tr>\n",
       "      <th>0</th>\n",
       "      <td>45.0</td>\n",
       "      <td>M</td>\n",
       "      <td>3</td>\n",
       "      <td>High School</td>\n",
       "      <td>Married</td>\n",
       "      <td>$60K - $80K</td>\n",
       "      <td>Blue</td>\n",
       "      <td>39.0</td>\n",
       "      <td>5.0</td>\n",
       "      <td>1</td>\n",
       "      <td>3</td>\n",
       "      <td>12691.0</td>\n",
       "      <td>777</td>\n",
       "      <td>1.335</td>\n",
       "      <td>1144</td>\n",
       "      <td>42</td>\n",
       "      <td>1.625</td>\n",
       "      <td>0.061</td>\n",
       "    </tr>\n",
       "    <tr>\n",
       "      <th>1</th>\n",
       "      <td>49.0</td>\n",
       "      <td>F</td>\n",
       "      <td>5</td>\n",
       "      <td>Graduate</td>\n",
       "      <td>NaN</td>\n",
       "      <td>Less than $40K</td>\n",
       "      <td>Blue</td>\n",
       "      <td>44.0</td>\n",
       "      <td>6.0</td>\n",
       "      <td>1</td>\n",
       "      <td>2</td>\n",
       "      <td>8256.0</td>\n",
       "      <td>864</td>\n",
       "      <td>1.541</td>\n",
       "      <td>1291</td>\n",
       "      <td>33</td>\n",
       "      <td>3.714</td>\n",
       "      <td>0.105</td>\n",
       "    </tr>\n",
       "    <tr>\n",
       "      <th>2</th>\n",
       "      <td>51.0</td>\n",
       "      <td>M</td>\n",
       "      <td>3</td>\n",
       "      <td>Graduate</td>\n",
       "      <td>Married</td>\n",
       "      <td>$80K - $120K</td>\n",
       "      <td>Blue</td>\n",
       "      <td>36.0</td>\n",
       "      <td>4.0</td>\n",
       "      <td>1</td>\n",
       "      <td>0</td>\n",
       "      <td>3418.0</td>\n",
       "      <td>0</td>\n",
       "      <td>2.594</td>\n",
       "      <td>1887</td>\n",
       "      <td>20</td>\n",
       "      <td>2.333</td>\n",
       "      <td>0.000</td>\n",
       "    </tr>\n",
       "    <tr>\n",
       "      <th>3</th>\n",
       "      <td>40.0</td>\n",
       "      <td>F</td>\n",
       "      <td>4</td>\n",
       "      <td>High School</td>\n",
       "      <td>NaN</td>\n",
       "      <td>Less than $40K</td>\n",
       "      <td>Blue</td>\n",
       "      <td>34.0</td>\n",
       "      <td>3.0</td>\n",
       "      <td>4</td>\n",
       "      <td>1</td>\n",
       "      <td>3313.0</td>\n",
       "      <td>2517</td>\n",
       "      <td>1.405</td>\n",
       "      <td>1171</td>\n",
       "      <td>20</td>\n",
       "      <td>2.333</td>\n",
       "      <td>0.760</td>\n",
       "    </tr>\n",
       "    <tr>\n",
       "      <th>4</th>\n",
       "      <td>40.0</td>\n",
       "      <td>M</td>\n",
       "      <td>3</td>\n",
       "      <td>Uneducated</td>\n",
       "      <td>Married</td>\n",
       "      <td>$60K - $80K</td>\n",
       "      <td>NaN</td>\n",
       "      <td>21.0</td>\n",
       "      <td>5.0</td>\n",
       "      <td>1</td>\n",
       "      <td>0</td>\n",
       "      <td>4716.0</td>\n",
       "      <td>0</td>\n",
       "      <td>2.175</td>\n",
       "      <td>816</td>\n",
       "      <td>28</td>\n",
       "      <td>2.500</td>\n",
       "      <td>0.000</td>\n",
       "    </tr>\n",
       "  </tbody>\n",
       "</table>\n",
       "</div>"
      ],
      "text/plain": [
       "   Customer_Age Gender  Dependent_count Education_Level Marital_Status  \\\n",
       "0          45.0      M                3     High School        Married   \n",
       "1          49.0      F                5        Graduate            NaN   \n",
       "2          51.0      M                3        Graduate        Married   \n",
       "3          40.0      F                4     High School            NaN   \n",
       "4          40.0      M                3      Uneducated        Married   \n",
       "\n",
       "  Income_Category Card_Category  Months_on_book  Total_Relationship_Count  \\\n",
       "0     $60K - $80K          Blue            39.0                       5.0   \n",
       "1  Less than $40K          Blue            44.0                       6.0   \n",
       "2    $80K - $120K          Blue            36.0                       4.0   \n",
       "3  Less than $40K          Blue            34.0                       3.0   \n",
       "4     $60K - $80K           NaN            21.0                       5.0   \n",
       "\n",
       "   Months_Inactive_12_mon  Contacts_Count_12_mon  Credit_Limit  \\\n",
       "0                       1                      3       12691.0   \n",
       "1                       1                      2        8256.0   \n",
       "2                       1                      0        3418.0   \n",
       "3                       4                      1        3313.0   \n",
       "4                       1                      0        4716.0   \n",
       "\n",
       "   Total_Revolving_Bal  Total_Amt_Chng_Q4_Q1  Total_Trans_Amt  Total_Trans_Ct  \\\n",
       "0                  777                 1.335             1144              42   \n",
       "1                  864                 1.541             1291              33   \n",
       "2                    0                 2.594             1887              20   \n",
       "3                 2517                 1.405             1171              20   \n",
       "4                    0                 2.175              816              28   \n",
       "\n",
       "   Total_Ct_Chng_Q4_Q1  Avg_Utilization_Ratio  \n",
       "0                1.625                  0.061  \n",
       "1                3.714                  0.105  \n",
       "2                2.333                  0.000  \n",
       "3                2.333                  0.760  \n",
       "4                2.500                  0.000  "
      ]
     },
     "execution_count": 2,
     "metadata": {},
     "output_type": "execute_result"
    }
   ],
   "source": [
    "data = pd.read_csv(\"./CreditPrediction.csv\")\n",
    "\n",
    "data = data.drop(columns=['Unnamed: 19', 'CLIENTNUM'])\n",
    "#data = data.dropna(subset=['Credit_Limit'])\n",
    "#data = data.drop_duplicates()\n",
    "\n",
    "X = data.drop(columns=['Credit_Limit'])\n",
    "y = data['Credit_Limit']\n",
    "\n",
    "print(data.shape)\n",
    "data.head()"
   ]
  },
  {
   "cell_type": "code",
   "execution_count": 17,
   "id": "93641557-82a6-4607-8c22-4bff8edf925d",
   "metadata": {},
   "outputs": [],
   "source": [
    "X_train, X_test, y_train, y_test = train_test_split(X, y, test_size=0.2, random_state=42)\n",
    "\n",
    "# Define numerical and categorical columns\n",
    "numerical_cols = X_train.select_dtypes(include=['int64', 'float64']).columns\n",
    "categorical_cols = X_train.select_dtypes(include=['object']).columns\n",
    "\n",
    "# Preprocessing pipelines\n",
    "numerical_transformer = Pipeline(steps=[\n",
    "    ('imputer', SimpleImputer(strategy='median')),\n",
    "    ('scaler', StandardScaler())\n",
    "])\n",
    "\n",
    "categorical_transformer = Pipeline(steps=[\n",
    "    ('imputer', SimpleImputer(strategy='most_frequent')),\n",
    "    ('onehot', OneHotEncoder(handle_unknown='ignore'))\n",
    "])\n",
    "\n",
    "preprocessor = ColumnTransformer(\n",
    "    transformers=[\n",
    "        ('num', numerical_transformer, numerical_cols),\n",
    "        ('cat', categorical_transformer, categorical_cols)\n",
    "    ])\n",
    "\n",
    "\n",
    "X_train = preprocessor.fit_transform(X_train)\n",
    "X_test = preprocessor.transform(X_test)"
   ]
  },
  {
   "cell_type": "code",
   "execution_count": 18,
   "id": "f44552d0-5efe-48d1-b8a4-a4d275301968",
   "metadata": {},
   "outputs": [],
   "source": [
    "def run(model, rep=1):\n",
    "    time = mse = mae = r2 = 0\n",
    "\n",
    "    for _ in range(rep):\n",
    "        start = timeit.default_timer()\n",
    "        model.fit(X_train, y_train)\n",
    "        end = timeit.default_timer()\n",
    "        \n",
    "        y_pred = model.predict(X_test)\n",
    "        \n",
    "        mae += mean_absolute_error(y_test, y_pred)\n",
    "        mse += mean_squared_error(y_test, y_pred)\n",
    "        r2 += r2_score(y_test, y_pred)\n",
    "        time += end - start\n",
    "\n",
    "    time /= rep\n",
    "    mse /= rep\n",
    "    mae /= rep\n",
    "    r2 /= rep\n",
    "    \n",
    "    print(f'Time: {round(time, 6)} seconds')\n",
    "    print('MAE: ', round(mae, 6))\n",
    "    print('MSE: ', round(mse, 6))\n",
    "    print('R2:  ',round(r2, 6))\n",
    "    print('--------------------')"
   ]
  },
  {
   "cell_type": "code",
   "execution_count": 19,
   "id": "3e134314-3546-4b84-ab6c-165d923a8872",
   "metadata": {},
   "outputs": [
    {
     "name": "stdout",
     "output_type": "stream",
     "text": [
      "Time: 0.069845 seconds\n",
      "MAE:  1574.163274\n",
      "MSE:  18878646.16734\n",
      "R2:   0.779419\n",
      "--------------------\n"
     ]
    }
   ],
   "source": [
    "model = DecisionTreeRegressor(random_state=10)\n",
    "run(model)"
   ]
  },
  {
   "cell_type": "code",
   "execution_count": 20,
   "id": "cca6c516-b79e-4da1-80bb-ef50f9d25681",
   "metadata": {},
   "outputs": [
    {
     "name": "stdout",
     "output_type": "stream",
     "text": [
      "Time: 2.572544 seconds\n",
      "MAE:  1179.254407\n",
      "MSE:  9669592.638143\n",
      "R2:   0.887019\n",
      "--------------------\n"
     ]
    }
   ],
   "source": [
    "model = RandomForestRegressor(n_estimators=100, max_depth=10, min_samples_leaf=2, min_samples_split=5, random_state=10)\n",
    "run(model)"
   ]
  },
  {
   "cell_type": "code",
   "execution_count": 21,
   "id": "ba3d1a2b-58b8-4b04-810c-bf11094f118f",
   "metadata": {},
   "outputs": [
    {
     "name": "stdout",
     "output_type": "stream",
     "text": [
      "Time: 4.482876 seconds\n",
      "MAE:  1448.510291\n",
      "MSE:  9262677.419402\n",
      "R2:   0.891774\n",
      "--------------------\n"
     ]
    }
   ],
   "source": [
    "model = GradientBoostingRegressor(n_estimators=400, random_state=10)\n",
    "run(model)"
   ]
  },
  {
   "cell_type": "code",
   "execution_count": 22,
   "id": "7684ea47-98fa-46c7-b27a-b086acc35712",
   "metadata": {},
   "outputs": [
    {
     "name": "stdout",
     "output_type": "stream",
     "text": [
      "Time: 0.152485 seconds\n",
      "MAE:  1200.312853\n",
      "MSE:  8790874.388138\n",
      "R2:   0.897286\n",
      "--------------------\n"
     ]
    }
   ],
   "source": [
    "model = XGBRegressor(n_estimators=100, max_depth=6, learning_rate=0.1, subsample=1, random_state=10)\n",
    "run(model)"
   ]
  },
  {
   "cell_type": "code",
   "execution_count": 9,
   "id": "4ec9a241-38b3-4d55-bd44-0afdf0d8e89a",
   "metadata": {},
   "outputs": [],
   "source": [
    "models = [\n",
    "    DecisionTreeRegressor(),\n",
    "    RandomForestRegressor(n_estimators=100, max_depth=10, min_samples_leaf=2, min_samples_split=5),\n",
    "    GradientBoostingRegressor(n_estimators=400),\n",
    "    XGBRegressor(n_estimators=100, max_depth=6, eta=0.1, subsample=1)\n",
    "                  ]"
   ]
  },
  {
   "cell_type": "code",
   "execution_count": 10,
   "id": "fe7c90bc-a008-45b7-8060-15c4433c5567",
   "metadata": {},
   "outputs": [],
   "source": [
    "for model in models:\n",
    "    pass\n",
    "    #run(model, 20)"
   ]
  },
  {
   "cell_type": "code",
   "execution_count": 16,
   "id": "e4c70e24-c643-4460-80e6-18d3547ba43f",
   "metadata": {},
   "outputs": [
    {
     "name": "stdout",
     "output_type": "stream",
     "text": [
      "Fitting 3 folds for each of 54 candidates, totalling 162 fits\n",
      "Best Parameters: {'regressor__learning_rate': 0.1, 'regressor__max_depth': 6, 'regressor__n_estimators': 100, 'regressor__subsample': 1.0}\n",
      "Test MSE: 8790874.38813802\n",
      "Test R²: 0.8972861512403716\n"
     ]
    }
   ],
   "source": []
  }
 ],
 "metadata": {
  "kernelspec": {
   "display_name": "Python 3 (ipykernel)",
   "language": "python",
   "name": "python3"
  },
  "language_info": {
   "codemirror_mode": {
    "name": "ipython",
    "version": 3
   },
   "file_extension": ".py",
   "mimetype": "text/x-python",
   "name": "python",
   "nbconvert_exporter": "python",
   "pygments_lexer": "ipython3",
   "version": "3.11.2"
  }
 },
 "nbformat": 4,
 "nbformat_minor": 5
}
